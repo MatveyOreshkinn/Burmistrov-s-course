{
 "cells": [
  {
   "cell_type": "markdown",
   "id": "099a2b9f",
   "metadata": {},
   "source": [
    "# Numpy\n",
    "## delete and add elemetns"
   ]
  },
  {
   "cell_type": "code",
   "execution_count": 2,
   "id": "71871259",
   "metadata": {},
   "outputs": [],
   "source": [
    "import numpy as np"
   ]
  },
  {
   "cell_type": "code",
   "execution_count": 3,
   "id": "639a703d",
   "metadata": {},
   "outputs": [
    {
     "data": {
      "text/plain": [
       "array([0, 1, 2, 3, 4, 5, 6, 7, 8])"
      ]
     },
     "execution_count": 3,
     "metadata": {},
     "output_type": "execute_result"
    }
   ],
   "source": [
    "arr = np.arange(0, 9)\n",
    "arr"
   ]
  },
  {
   "cell_type": "code",
   "execution_count": 4,
   "id": "0dd6c734",
   "metadata": {},
   "outputs": [
    {
     "data": {
      "text/plain": [
       "array([0, 1, 4, 5, 6, 7, 8])"
      ]
     },
     "execution_count": 4,
     "metadata": {},
     "output_type": "execute_result"
    }
   ],
   "source": [
    "np.delete(arr, arr[2:4])"
   ]
  },
  {
   "cell_type": "code",
   "execution_count": 7,
   "id": "70d43bbf",
   "metadata": {},
   "outputs": [],
   "source": [
    "arr = np.random.randint(0, 100, 10)"
   ]
  },
  {
   "cell_type": "code",
   "execution_count": 8,
   "id": "97e0cba1",
   "metadata": {},
   "outputs": [
    {
     "data": {
      "text/plain": [
       "array([72, 14, 54, 82, 90, 66, 81, 30, 15, 58])"
      ]
     },
     "execution_count": 8,
     "metadata": {},
     "output_type": "execute_result"
    }
   ],
   "source": [
    "arr"
   ]
  },
  {
   "cell_type": "code",
   "execution_count": 9,
   "id": "3b05a08a",
   "metadata": {},
   "outputs": [
    {
     "data": {
      "text/plain": [
       "array([72, 54, 82, 90, 81, 15, 58])"
      ]
     },
     "execution_count": 9,
     "metadata": {},
     "output_type": "execute_result"
    }
   ],
   "source": [
    "np.delete(arr, [1, 5, 7])"
   ]
  },
  {
   "cell_type": "code",
   "execution_count": 10,
   "id": "a9215d32",
   "metadata": {},
   "outputs": [
    {
     "data": {
      "text/plain": [
       "array([72, 14, 54, 82, 90, 66, 81, 30, 15, 58])"
      ]
     },
     "execution_count": 10,
     "metadata": {},
     "output_type": "execute_result"
    }
   ],
   "source": [
    "arr"
   ]
  },
  {
   "cell_type": "code",
   "execution_count": 12,
   "id": "5ee598a6",
   "metadata": {},
   "outputs": [
    {
     "data": {
      "text/plain": [
       "array([72, 14, 54, 82, 90, 66, 81, 30, 15, 58, -1])"
      ]
     },
     "execution_count": 12,
     "metadata": {},
     "output_type": "execute_result"
    }
   ],
   "source": [
    "np.append(arr, [-1])"
   ]
  },
  {
   "cell_type": "code",
   "execution_count": 15,
   "id": "4aa0ebca",
   "metadata": {},
   "outputs": [
    {
     "data": {
      "text/plain": [
       "array([72, 14, 54, 82,  4, 90, 66, 81, 30, 15, 58])"
      ]
     },
     "execution_count": 15,
     "metadata": {},
     "output_type": "execute_result"
    }
   ],
   "source": [
    "np.insert(arr, 4, 4)"
   ]
  },
  {
   "cell_type": "code",
   "execution_count": null,
   "id": "aea7167c",
   "metadata": {},
   "outputs": [],
   "source": []
  }
 ],
 "metadata": {
  "kernelspec": {
   "display_name": "Python 3",
   "language": "python",
   "name": "python3"
  },
  "language_info": {
   "codemirror_mode": {
    "name": "ipython",
    "version": 3
   },
   "file_extension": ".py",
   "mimetype": "text/x-python",
   "name": "python",
   "nbconvert_exporter": "python",
   "pygments_lexer": "ipython3",
   "version": "3.11.3"
  }
 },
 "nbformat": 4,
 "nbformat_minor": 5
}
